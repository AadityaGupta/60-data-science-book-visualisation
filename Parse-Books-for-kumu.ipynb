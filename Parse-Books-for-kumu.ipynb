{
 "cells": [
  {
   "cell_type": "code",
   "execution_count": 1,
   "metadata": {
    "collapsed": true
   },
   "outputs": [],
   "source": [
    "import pandas as pd\n",
    "df_books = pd.read_csv('Combined books.csv - Overall Form.csv')"
   ]
  },
  {
   "cell_type": "markdown",
   "metadata": {},
   "source": [
    "From kumu.io 's documentation.\n",
    "The `elements.csv` and `connections.csv` must be in this form.\n",
    "\n",
    "```\n",
    "#To be included in the elements form\n",
    "#Label\n",
    "#Type (optional)\n",
    "#Description (optional)\n",
    "\n",
    "#For connections\n",
    "#\n",
    "#To be included in the connections form\n",
    "#From\n",
    "#To\n",
    "#Type (optional)\n",
    "#Label (optional)\n",
    "#\n",
    "#Here's a sample of how your element spreadsheet might look:\n",
    "\n",
    "# Label   Type    Description Tags\n",
    "# Jeff Mohr   Person  Co-Founder and CEO, always up for learning Founder|Male|Runner\n",
    "```"
   ]
  },
  {
   "cell_type": "code",
   "execution_count": 2,
   "metadata": {
    "collapsed": false,
    "scrolled": true
   },
   "outputs": [],
   "source": [
    "import re\n",
    "AUTHOR_NAMES_SEP_PATTERN = re.compile(r',|&')\n",
    "AUTHOR_NAMES_NONEXIST_PATTERN = re.compile(r'^\\s*$')\n",
    "TITLE_TERMS_SEP_PATTERN = re.compile(r'[\\s,:]')\n",
    "\n",
    "elements = []\n",
    "connections = []\n",
    "\n",
    "for (i, row) in df_books.iterrows():\n",
    "    category = row['Category']\n",
    "    row['Author'] = row['Author'].replace('\\xc2\\xa0', ' ').replace('\\xe2\\x80\\x99', \"'\")\n",
    "    authors = AUTHOR_NAMES_SEP_PATTERN.split(row['Author'].strip().strip('\\xc2\\xa0'))\n",
    "    authors = filter(lambda x: not AUTHOR_NAMES_NONEXIST_PATTERN.match(x), authors)\n",
    "    authors = map(str.strip, authors)\n",
    "    for author in authors:\n",
    "        elements.append((author, 'Author', ''))\n",
    "    #print authors\n",
    "    title = row['Title']\n",
    "    title_terms = TITLE_TERMS_SEP_PATTERN.split(title)\n",
    "    title_terms = filter(lambda x: x not in [\n",
    "            'and', 'or', 'in', 'a', 'A', 'an', 'An', 'And', 'Or', 'In', \n",
    "            'of', 'Of', 'to', 'into', 'Into', 'the', 'The', '',\n",
    "            'with'\n",
    "        ], title_terms)\n",
    "    for term in title_terms:\n",
    "        elements.append((term, 'Term', ''))\n",
    "    elements.append((category, 'Category', ''))\n",
    "    year = row['Year']\n",
    "    elements.append((year, 'Year', ''))\n",
    "    elements.append((title, 'Title', ''))\n",
    "    \n",
    "    connections.append((category, title, '', ''))\n",
    "    connections.append((title, year, '', ''))\n",
    "    for author in authors:\n",
    "        connections.append((author, title, '', ''))\n",
    "    for term in title_terms:\n",
    "        connections.append((title, term, '', ''))\n",
    "\n",
    "    \n",
    "    #print title_terms"
   ]
  },
  {
   "cell_type": "code",
   "execution_count": 3,
   "metadata": {
    "collapsed": false
   },
   "outputs": [],
   "source": [
    "pd.DataFrame(elements, columns=['Label', 'Type', 'Description']).drop_duplicates().to_csv('elements.csv', index=False)\n",
    "pd.DataFrame(connections, columns=['From', 'To', 'Type', 'Label']).to_csv('connections.csv', index=False)"
   ]
  }
 ],
 "metadata": {
  "kernelspec": {
   "display_name": "Python 2",
   "language": "python",
   "name": "python2"
  },
  "language_info": {
   "codemirror_mode": {
    "name": "ipython",
    "version": 2
   },
   "file_extension": ".py",
   "mimetype": "text/x-python",
   "name": "python",
   "nbconvert_exporter": "python",
   "pygments_lexer": "ipython2",
   "version": "2.7.9"
  }
 },
 "nbformat": 4,
 "nbformat_minor": 0
}
